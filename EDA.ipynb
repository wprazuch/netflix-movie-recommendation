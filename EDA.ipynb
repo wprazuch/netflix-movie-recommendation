{
 "cells": [
  {
   "cell_type": "code",
   "execution_count": 7,
   "metadata": {},
   "outputs": [],
   "source": [
    "import pandas as pd\n",
    "import numpy as np\n",
    "import matplotlib.pyplot as plt\n",
    "import matplotlib\n",
    "from scipy.stats import norm\n",
    "import seaborn as sns\n",
    "from datetime import datetime\n",
    "plt.style.use('ggplot')"
   ]
  },
  {
   "cell_type": "code",
   "execution_count": 8,
   "metadata": {},
   "outputs": [],
   "source": [
    "dataset_sample_path = r'datasets\\data_sample1.h5'\n",
    "movie_titles_path = r'datasets\\movie_titles.csv'"
   ]
  },
  {
   "cell_type": "code",
   "execution_count": 9,
   "metadata": {},
   "outputs": [],
   "source": [
    "# df = pd.DataFrame(columns=['MovieID', 'CustomerID', 'Rating', 'Date'])\n",
    "\n",
    "# for i in range(1, 5):\n",
    "#     df_sample = pd.read_hdf(f'datasets\\\\data_sample{i}.h5')\n",
    "#     df = df.append(df_sample)"
   ]
  },
  {
   "cell_type": "code",
   "execution_count": 10,
   "metadata": {},
   "outputs": [],
   "source": [
    "# train, test = df.iloc[:int(df.shape[0]*0.8)], df.iloc[int(df.shape[0]*0.8):]"
   ]
  },
  {
   "cell_type": "code",
   "execution_count": 11,
   "metadata": {},
   "outputs": [],
   "source": [
    "# train.to_hdf(r'datasets\\train.h5', key='df')\n",
    "# test.to_hdf(r'datasets\\test.h5', key='df')"
   ]
  },
  {
   "cell_type": "code",
   "execution_count": 12,
   "metadata": {},
   "outputs": [],
   "source": [
    "train =  pd.read_hdf(r'datasets\\train.h5')"
   ]
  },
  {
   "cell_type": "code",
   "execution_count": 13,
   "metadata": {},
   "outputs": [],
   "source": [
    "#df = pd.read_hdf(dataset_sample_path)\n",
    "movie_titles = pd.read_csv(movie_titles_path,sep = \",\", header = None, names=['MovieID', 'Year_of_Release', 'Movie_Title'], index_col = \"MovieID\", encoding = \"iso8859_2\")"
   ]
  },
  {
   "cell_type": "code",
   "execution_count": 14,
   "metadata": {},
   "outputs": [
    {
     "data": {
      "text/html": [
       "<div>\n",
       "<style scoped>\n",
       "    .dataframe tbody tr th:only-of-type {\n",
       "        vertical-align: middle;\n",
       "    }\n",
       "\n",
       "    .dataframe tbody tr th {\n",
       "        vertical-align: top;\n",
       "    }\n",
       "\n",
       "    .dataframe thead th {\n",
       "        text-align: right;\n",
       "    }\n",
       "</style>\n",
       "<table border=\"1\" class=\"dataframe\">\n",
       "  <thead>\n",
       "    <tr style=\"text-align: right;\">\n",
       "      <th></th>\n",
       "      <th>MovieID</th>\n",
       "      <th>CustomerID</th>\n",
       "      <th>Rating</th>\n",
       "      <th>Date</th>\n",
       "      <th>Day_of_Week</th>\n",
       "    </tr>\n",
       "  </thead>\n",
       "  <tbody>\n",
       "    <tr>\n",
       "      <th>0</th>\n",
       "      <td>1</td>\n",
       "      <td>1488844</td>\n",
       "      <td>3</td>\n",
       "      <td>2005-09-06</td>\n",
       "      <td>Tuesday</td>\n",
       "    </tr>\n",
       "    <tr>\n",
       "      <th>1</th>\n",
       "      <td>1</td>\n",
       "      <td>822109</td>\n",
       "      <td>5</td>\n",
       "      <td>2005-05-13</td>\n",
       "      <td>Friday</td>\n",
       "    </tr>\n",
       "    <tr>\n",
       "      <th>2</th>\n",
       "      <td>1</td>\n",
       "      <td>885013</td>\n",
       "      <td>4</td>\n",
       "      <td>2005-10-19</td>\n",
       "      <td>Wednesday</td>\n",
       "    </tr>\n",
       "    <tr>\n",
       "      <th>3</th>\n",
       "      <td>1</td>\n",
       "      <td>30878</td>\n",
       "      <td>4</td>\n",
       "      <td>2005-12-26</td>\n",
       "      <td>Monday</td>\n",
       "    </tr>\n",
       "    <tr>\n",
       "      <th>4</th>\n",
       "      <td>1</td>\n",
       "      <td>823519</td>\n",
       "      <td>3</td>\n",
       "      <td>2004-05-03</td>\n",
       "      <td>Monday</td>\n",
       "    </tr>\n",
       "  </tbody>\n",
       "</table>\n",
       "</div>"
      ],
      "text/plain": [
       "   MovieID  CustomerID  Rating       Date Day_of_Week\n",
       "0        1     1488844       3 2005-09-06     Tuesday\n",
       "1        1      822109       5 2005-05-13      Friday\n",
       "2        1      885013       4 2005-10-19   Wednesday\n",
       "3        1       30878       4 2005-12-26      Monday\n",
       "4        1      823519       3 2004-05-03      Monday"
      ]
     },
     "execution_count": 14,
     "metadata": {},
     "output_type": "execute_result"
    }
   ],
   "source": [
    "train.head()"
   ]
  },
  {
   "cell_type": "code",
   "execution_count": 15,
   "metadata": {},
   "outputs": [
    {
     "data": {
      "text/html": [
       "<div>\n",
       "<style scoped>\n",
       "    .dataframe tbody tr th:only-of-type {\n",
       "        vertical-align: middle;\n",
       "    }\n",
       "\n",
       "    .dataframe tbody tr th {\n",
       "        vertical-align: top;\n",
       "    }\n",
       "\n",
       "    .dataframe thead th {\n",
       "        text-align: right;\n",
       "    }\n",
       "</style>\n",
       "<table border=\"1\" class=\"dataframe\">\n",
       "  <thead>\n",
       "    <tr style=\"text-align: right;\">\n",
       "      <th></th>\n",
       "      <th>MovieID</th>\n",
       "      <th>CustomerID</th>\n",
       "      <th>Rating</th>\n",
       "    </tr>\n",
       "  </thead>\n",
       "  <tbody>\n",
       "    <tr>\n",
       "      <th>count</th>\n",
       "      <td>3.200000e+06</td>\n",
       "      <td>3.200000e+06</td>\n",
       "      <td>3.200000e+06</td>\n",
       "    </tr>\n",
       "    <tr>\n",
       "      <th>mean</th>\n",
       "      <td>5.229837e+03</td>\n",
       "      <td>1.321722e+06</td>\n",
       "      <td>3.623891e+00</td>\n",
       "    </tr>\n",
       "    <tr>\n",
       "      <th>std</th>\n",
       "      <td>4.204505e+03</td>\n",
       "      <td>7.646556e+05</td>\n",
       "      <td>1.076435e+00</td>\n",
       "    </tr>\n",
       "    <tr>\n",
       "      <th>min</th>\n",
       "      <td>1.000000e+00</td>\n",
       "      <td>6.000000e+00</td>\n",
       "      <td>1.000000e+00</td>\n",
       "    </tr>\n",
       "    <tr>\n",
       "      <th>25%</th>\n",
       "      <td>1.910000e+02</td>\n",
       "      <td>6.597690e+05</td>\n",
       "      <td>3.000000e+00</td>\n",
       "    </tr>\n",
       "    <tr>\n",
       "      <th>50%</th>\n",
       "      <td>4.633000e+03</td>\n",
       "      <td>1.317589e+06</td>\n",
       "      <td>4.000000e+00</td>\n",
       "    </tr>\n",
       "    <tr>\n",
       "      <th>75%</th>\n",
       "      <td>9.322000e+03</td>\n",
       "      <td>1.984028e+06</td>\n",
       "      <td>4.000000e+00</td>\n",
       "    </tr>\n",
       "    <tr>\n",
       "      <th>max</th>\n",
       "      <td>1.339200e+04</td>\n",
       "      <td>2.649429e+06</td>\n",
       "      <td>5.000000e+00</td>\n",
       "    </tr>\n",
       "  </tbody>\n",
       "</table>\n",
       "</div>"
      ],
      "text/plain": [
       "            MovieID    CustomerID        Rating\n",
       "count  3.200000e+06  3.200000e+06  3.200000e+06\n",
       "mean   5.229837e+03  1.321722e+06  3.623891e+00\n",
       "std    4.204505e+03  7.646556e+05  1.076435e+00\n",
       "min    1.000000e+00  6.000000e+00  1.000000e+00\n",
       "25%    1.910000e+02  6.597690e+05  3.000000e+00\n",
       "50%    4.633000e+03  1.317589e+06  4.000000e+00\n",
       "75%    9.322000e+03  1.984028e+06  4.000000e+00\n",
       "max    1.339200e+04  2.649429e+06  5.000000e+00"
      ]
     },
     "execution_count": 15,
     "metadata": {},
     "output_type": "execute_result"
    }
   ],
   "source": [
    "train.describe()"
   ]
  },
  {
   "cell_type": "code",
   "execution_count": 16,
   "metadata": {},
   "outputs": [
    {
     "data": {
      "image/png": "[encoded data removed]",
      "text/plain": [
       "<Figure size 432x288 with 1 Axes>"
      ]
     },
     "metadata": {},
     "output_type": "display_data"
    }
   ],
   "source": [
    "sns.boxplot(train['Rating'].values)\n",
    "plt.xlabel('Rating', fontsize=15)\n",
    "plt.title('Boxplot for Rating values', fontsize=20)\n",
    "plt.show()"
   ]
  },
  {
   "cell_type": "markdown",
   "metadata": {},
   "source": [
    "We see that ratings of 1 are even taken as outliers in the boxplot"
   ]
  },
  {
   "cell_type": "code",
   "execution_count": 17,
   "metadata": {},
   "outputs": [],
   "source": [
    "movies_count = train.MovieID.value_counts()\n",
    "movies_count_values = movies_count.values"
   ]
  },
  {
   "cell_type": "code",
   "execution_count": 18,
   "metadata": {},
   "outputs": [],
   "source": [
    "customer_count = train.CustomerID.value_counts()\n",
    "no_movies_per_customer = customer_count.values"
   ]
  },
  {
   "cell_type": "code",
   "execution_count": 19,
   "metadata": {},
   "outputs": [
    {
     "data": {
      "image/png": "[encoded data removed]",
      "text/plain": [
       "<Figure size 864x432 with 2 Axes>"
      ]
     },
     "metadata": {},
     "output_type": "display_data"
    }
   ],
   "source": [
    "fig, axes = plt.subplots(nrows = 1, ncols = 2, figsize=(12,6))\n",
    "\n",
    "axes[0].plot(movies_count_values)\n",
    "axes[0].set_title(\"Movie count (descending order)\")\n",
    "axes[0].set_ylabel('Number of users that watched the movie', fontsize=15)\n",
    "axes[0].set_xlabel('Movie', fontsize=15)\n",
    "\n",
    "axes[1].plot(no_movies_per_customer)\n",
    "axes[1].set_ylabel('Movies seen', fontsize=15)\n",
    "axes[1].set_xlabel('Customer number', fontsize=15)\n",
    "axes[1].set_title('Distribution of number of movies rated per user')\n",
    "\n",
    "fig.subplots_adjust(wspace=2)\n",
    "plt.tight_layout()\n",
    "plt.show()"
   ]
  },
  {
   "cell_type": "markdown",
   "metadata": {},
   "source": [
    "We see that very few people watch a lot of movies, and some movies are very popular, whereas others are certainly not popular"
   ]
  },
  {
   "cell_type": "code",
   "execution_count": 20,
   "metadata": {},
   "outputs": [],
   "source": [
    "no_of_rated_movies_per_user = train.groupby(by = \"CustomerID\")[\"Rating\"].count().sort_values(ascending = False)"
   ]
  },
  {
   "cell_type": "code",
   "execution_count": 22,
   "metadata": {},
   "outputs": [],
   "source": [
    "# Top 20 movies people watched"
   ]
  },
  {
   "cell_type": "code",
   "execution_count": 25,
   "metadata": {},
   "outputs": [
    {
     "data": {
      "text/html": [
       "<div>\n",
       "<style scoped>\n",
       "    .dataframe tbody tr th:only-of-type {\n",
       "        vertical-align: middle;\n",
       "    }\n",
       "\n",
       "    .dataframe tbody tr th {\n",
       "        vertical-align: top;\n",
       "    }\n",
       "\n",
       "    .dataframe thead th {\n",
       "        text-align: right;\n",
       "    }\n",
       "</style>\n",
       "<table border=\"1\" class=\"dataframe\">\n",
       "  <thead>\n",
       "    <tr style=\"text-align: right;\">\n",
       "      <th></th>\n",
       "      <th>Year_of_Release</th>\n",
       "      <th>Movie_Title</th>\n",
       "    </tr>\n",
       "  </thead>\n",
       "  <tbody>\n",
       "    <tr>\n",
       "      <th>9340</th>\n",
       "      <td>2001.0</td>\n",
       "      <td>Pearl Harbor</td>\n",
       "    </tr>\n",
       "    <tr>\n",
       "      <th>4656</th>\n",
       "      <td>2000.0</td>\n",
       "      <td>Erin Brockovich</td>\n",
       "    </tr>\n",
       "    <tr>\n",
       "      <th>4640</th>\n",
       "      <td>1988.0</td>\n",
       "      <td>Rain Man</td>\n",
       "    </tr>\n",
       "    <tr>\n",
       "      <th>30</th>\n",
       "      <td>2003.0</td>\n",
       "      <td>Something's Gotta Give</td>\n",
       "    </tr>\n",
       "    <tr>\n",
       "      <th>4577</th>\n",
       "      <td>1989.0</td>\n",
       "      <td>Steel Magnolias</td>\n",
       "    </tr>\n",
       "    <tr>\n",
       "      <th>191</th>\n",
       "      <td>2003.0</td>\n",
       "      <td>X2: X-Men United</td>\n",
       "    </tr>\n",
       "    <tr>\n",
       "      <th>175</th>\n",
       "      <td>1992.0</td>\n",
       "      <td>Reservoir Dogs</td>\n",
       "    </tr>\n",
       "    <tr>\n",
       "      <th>197</th>\n",
       "      <td>2004.0</td>\n",
       "      <td>Taking Lives</td>\n",
       "    </tr>\n",
       "    <tr>\n",
       "      <th>13391</th>\n",
       "      <td>1994.0</td>\n",
       "      <td>True Lies</td>\n",
       "    </tr>\n",
       "    <tr>\n",
       "      <th>4590</th>\n",
       "      <td>2004.0</td>\n",
       "      <td>The Forgotten</td>\n",
       "    </tr>\n",
       "    <tr>\n",
       "      <th>9254</th>\n",
       "      <td>1985.0</td>\n",
       "      <td>The Goonies</td>\n",
       "    </tr>\n",
       "    <tr>\n",
       "      <th>4545</th>\n",
       "      <td>1990.0</td>\n",
       "      <td>Dances With Wolves: Special Edition</td>\n",
       "    </tr>\n",
       "    <tr>\n",
       "      <th>9426</th>\n",
       "      <td>1986.0</td>\n",
       "      <td>Platoon</td>\n",
       "    </tr>\n",
       "    <tr>\n",
       "      <th>4661</th>\n",
       "      <td>1999.0</td>\n",
       "      <td>Deuce Bigalow: Male Gigolo</td>\n",
       "    </tr>\n",
       "    <tr>\n",
       "      <th>4633</th>\n",
       "      <td>1982.0</td>\n",
       "      <td>Gandhi</td>\n",
       "    </tr>\n",
       "    <tr>\n",
       "      <th>28</th>\n",
       "      <td>2002.0</td>\n",
       "      <td>Lilo and Stitch</td>\n",
       "    </tr>\n",
       "    <tr>\n",
       "      <th>143</th>\n",
       "      <td>1997.0</td>\n",
       "      <td>The Game</td>\n",
       "    </tr>\n",
       "    <tr>\n",
       "      <th>13384</th>\n",
       "      <td>1979.0</td>\n",
       "      <td>Kramer vs. Kramer</td>\n",
       "    </tr>\n",
       "    <tr>\n",
       "      <th>9415</th>\n",
       "      <td>2005.0</td>\n",
       "      <td>Are We There Yet?</td>\n",
       "    </tr>\n",
       "    <tr>\n",
       "      <th>9378</th>\n",
       "      <td>1984.0</td>\n",
       "      <td>The Natural</td>\n",
       "    </tr>\n",
       "  </tbody>\n",
       "</table>\n",
       "</div>"
      ],
      "text/plain": [
       "       Year_of_Release                          Movie_Title\n",
       "9340            2001.0                         Pearl Harbor\n",
       "4656            2000.0                      Erin Brockovich\n",
       "4640            1988.0                             Rain Man\n",
       "30              2003.0               Something's Gotta Give\n",
       "4577            1989.0                      Steel Magnolias\n",
       "191             2003.0                     X2: X-Men United\n",
       "175             1992.0                       Reservoir Dogs\n",
       "197             2004.0                         Taking Lives\n",
       "13391           1994.0                            True Lies\n",
       "4590            2004.0                        The Forgotten\n",
       "9254            1985.0                          The Goonies\n",
       "4545            1990.0  Dances With Wolves: Special Edition\n",
       "9426            1986.0                              Platoon\n",
       "4661            1999.0           Deuce Bigalow: Male Gigolo\n",
       "4633            1982.0                               Gandhi\n",
       "28              2002.0                      Lilo and Stitch\n",
       "143             1997.0                             The Game\n",
       "13384           1979.0                    Kramer vs. Kramer\n",
       "9415            2005.0                    Are We There Yet?\n",
       "9378            1984.0                          The Natural"
      ]
     },
     "execution_count": 25,
     "metadata": {},
     "output_type": "execute_result"
    }
   ],
   "source": [
    "top_20_movie_ids = movies_count.keys()[:20]\n",
    "top_20_movies = movie_titles.loc[top_20_movie_ids]\n",
    "top_20_movies"
   ]
  },
  {
   "cell_type": "code",
   "execution_count": 26,
   "metadata": {},
   "outputs": [],
   "source": [
    "def to_thousands(tick):\n",
    "    return ''.join([str(tick/(10**3)),'K'])"
   ]
  },
  {
   "cell_type": "code",
   "execution_count": 27,
   "metadata": {},
   "outputs": [
    {
     "data": {
      "image/png": "[encoded data removed]",
      "text/plain": [
       "<Figure size 720x576 with 1 Axes>"
      ]
     },
     "metadata": {},
     "output_type": "display_data"
    }
   ],
   "source": [
    "plt.figure(figsize=(10, 8))\n",
    "\n",
    "ax = sns.countplot(x=\"Rating\", data=train)\n",
    "ax.set_yticklabels([to_thousands(tick) for tick in ax.get_yticks()])\n",
    "plt.tick_params(labelsize=15)\n",
    "plt.ylabel('Number of Rating (in Thousands)', fontsize=20)\n",
    "plt.xlabel('Rating', fontsize=20)\n",
    "plt.show()"
   ]
  },
  {
   "cell_type": "markdown",
   "metadata": {},
   "source": [
    "Generally, there not many bad movies... or people hardly ever watch bad movies"
   ]
  },
  {
   "cell_type": "code",
   "execution_count": 28,
   "metadata": {},
   "outputs": [],
   "source": [
    "no_of_rated_movies_per_user = train.groupby(by = \"CustomerID\")[\"Rating\"].count().sort_values(ascending = False)"
   ]
  },
  {
   "cell_type": "code",
   "execution_count": 29,
   "metadata": {},
   "outputs": [
    {
     "data": {
      "text/plain": [
       "CustomerID\n",
       "305344     644\n",
       "387418     638\n",
       "2439493    614\n",
       "1664010    574\n",
       "2118461    538\n",
       "          ... \n",
       "1207566      1\n",
       "1207535      1\n",
       "1207523      1\n",
       "2168916      1\n",
       "1896453      1\n",
       "Name: Rating, Length: 401041, dtype: int64"
      ]
     },
     "execution_count": 29,
     "metadata": {},
     "output_type": "execute_result"
    }
   ],
   "source": [
    "no_of_rated_movies_per_user"
   ]
  },
  {
   "cell_type": "code",
   "execution_count": 30,
   "metadata": {},
   "outputs": [
    {
     "data": {
      "image/png": "[encoded data removed]",
      "text/plain": [
       "<Figure size 720x360 with 2 Axes>"
      ]
     },
     "metadata": {},
     "output_type": "display_data"
    }
   ],
   "source": [
    "fig, axes = plt.subplots(nrows = 1, ncols = 2, figsize=(10,5))\n",
    "\n",
    "sns.kdeplot(no_of_rated_movies_per_user.values, shade = True, ax = axes[0])\n",
    "axes[0].set_title(\"PDF\", fontsize = 18)\n",
    "axes[0].set_xlabel(\"Number of Ratings by user\", fontsize = 18)\n",
    "axes[0].tick_params(labelsize = 15)\n",
    "\n",
    "sns.kdeplot(no_of_rated_movies_per_user.values, shade = True, cumulative = True, ax = axes[1])\n",
    "axes[1].set_title(\"CDF\", fontsize = 18)\n",
    "axes[1].set_xlabel(\"Number of Ratings by user\", fontsize = 18)\n",
    "axes[1].tick_params(labelsize = 15)\n",
    "\n",
    "fig.subplots_adjust(wspace=2)\n",
    "plt.tight_layout()\n",
    "plt.show()"
   ]
  },
  {
   "cell_type": "markdown",
   "metadata": {},
   "source": [
    "Let's map date strings to datetime types, and create new feature called Day_of_Week"
   ]
  },
  {
   "cell_type": "code",
   "execution_count": null,
   "metadata": {},
   "outputs": [],
   "source": [
    "# train.Date = train.Date.map(lambda x: datetime.strptime(x, \"%Y-%m-%d\"))\n",
    "# train['Day_of_Week'] = train.Date.map(lambda x: x.day_name())"
   ]
  },
  {
   "cell_type": "code",
   "execution_count": 33,
   "metadata": {},
   "outputs": [
    {
     "data": {
      "text/html": [
       "<div>\n",
       "<style scoped>\n",
       "    .dataframe tbody tr th:only-of-type {\n",
       "        vertical-align: middle;\n",
       "    }\n",
       "\n",
       "    .dataframe tbody tr th {\n",
       "        vertical-align: top;\n",
       "    }\n",
       "\n",
       "    .dataframe thead th {\n",
       "        text-align: right;\n",
       "    }\n",
       "</style>\n",
       "<table border=\"1\" class=\"dataframe\">\n",
       "  <thead>\n",
       "    <tr style=\"text-align: right;\">\n",
       "      <th></th>\n",
       "      <th>MovieID</th>\n",
       "      <th>CustomerID</th>\n",
       "      <th>Rating</th>\n",
       "      <th>Date</th>\n",
       "      <th>Day_of_Week</th>\n",
       "    </tr>\n",
       "  </thead>\n",
       "  <tbody>\n",
       "    <tr>\n",
       "      <th>0</th>\n",
       "      <td>1</td>\n",
       "      <td>1488844</td>\n",
       "      <td>3</td>\n",
       "      <td>2005-09-06</td>\n",
       "      <td>Tuesday</td>\n",
       "    </tr>\n",
       "    <tr>\n",
       "      <th>1</th>\n",
       "      <td>1</td>\n",
       "      <td>822109</td>\n",
       "      <td>5</td>\n",
       "      <td>2005-05-13</td>\n",
       "      <td>Friday</td>\n",
       "    </tr>\n",
       "    <tr>\n",
       "      <th>2</th>\n",
       "      <td>1</td>\n",
       "      <td>885013</td>\n",
       "      <td>4</td>\n",
       "      <td>2005-10-19</td>\n",
       "      <td>Wednesday</td>\n",
       "    </tr>\n",
       "  </tbody>\n",
       "</table>\n",
       "</div>"
      ],
      "text/plain": [
       "   MovieID  CustomerID  Rating       Date Day_of_Week\n",
       "0        1     1488844       3 2005-09-06     Tuesday\n",
       "1        1      822109       5 2005-05-13      Friday\n",
       "2        1      885013       4 2005-10-19   Wednesday"
      ]
     },
     "execution_count": 33,
     "metadata": {},
     "output_type": "execute_result"
    }
   ],
   "source": [
    "train.head(3)"
   ]
  },
  {
   "cell_type": "code",
   "execution_count": 34,
   "metadata": {},
   "outputs": [
    {
     "data": {
      "image/png": "[encoded data removed]",
      "text/plain": [
       "<Figure size 720x432 with 1 Axes>"
      ]
     },
     "metadata": {},
     "output_type": "display_data"
    }
   ],
   "source": [
    "plt.figure(figsize=(10, 6))\n",
    "ax = sns.countplot(train.Day_of_Week.values)\n",
    "ax.set_yticklabels([to_thousands(tick) for tick in ax.get_yticks()])\n",
    "ax.tick_params(labelsize = 15)\n",
    "plt.show()"
   ]
  },
  {
   "cell_type": "code",
   "execution_count": 35,
   "metadata": {},
   "outputs": [
    {
     "data": {
      "image/png": "[encoded data removed]",
      "text/plain": [
       "<Figure size 720x432 with 1 Axes>"
      ]
     },
     "metadata": {},
     "output_type": "display_data"
    }
   ],
   "source": [
    "fig = plt.figure(figsize=(10, 6))\n",
    "\n",
    "ax = sns.boxplot(x='Day_of_Week', y='Rating', data=train)"
   ]
  },
  {
   "cell_type": "markdown",
   "metadata": {},
   "source": [
    "Day of week does not affect the rating of the customer - even Mondays!"
   ]
  },
  {
   "cell_type": "code",
   "execution_count": 36,
   "metadata": {},
   "outputs": [],
   "source": [
    "from scipy import sparse"
   ]
  },
  {
   "cell_type": "code",
   "execution_count": 38,
   "metadata": {},
   "outputs": [],
   "source": [
    "train['CustomerID'] = train['CustomerID'].astype(np.int64)\n",
    "train['MovieID'] = train['MovieID'].astype(np.int64)\n",
    "train['Rating'] = train['Rating'].astype(np.int64)"
   ]
  },
  {
   "cell_type": "code",
   "execution_count": 39,
   "metadata": {},
   "outputs": [
    {
     "name": "stdout",
     "output_type": "stream",
     "text": [
      "<class 'pandas.core.frame.DataFrame'>\n",
      "Int64Index: 3200000 entries, 0 to 199999\n",
      "Data columns (total 5 columns):\n",
      " #   Column       Dtype         \n",
      "---  ------       -----         \n",
      " 0   MovieID      int64         \n",
      " 1   CustomerID   int64         \n",
      " 2   Rating       int64         \n",
      " 3   Date         datetime64[ns]\n",
      " 4   Day_of_Week  object        \n",
      "dtypes: datetime64[ns](1), int64(3), object(1)\n",
      "memory usage: 186.5+ MB\n"
     ]
    }
   ],
   "source": [
    "train.info()"
   ]
  },
  {
   "cell_type": "code",
   "execution_count": 40,
   "metadata": {},
   "outputs": [],
   "source": [
    "sparse_data = sparse.csr_matrix((train['Rating'].values, (train['CustomerID'].values, train['MovieID'].values)))"
   ]
  },
  {
   "cell_type": "code",
   "execution_count": 41,
   "metadata": {},
   "outputs": [
    {
     "data": {
      "text/plain": [
       "<2649430x13393 sparse matrix of type '<class 'numpy.int64'>'\n",
       "\twith 3200000 stored elements in Compressed Sparse Row format>"
      ]
     },
     "execution_count": 41,
     "metadata": {},
     "output_type": "execute_result"
    }
   ],
   "source": [
    "sparse_data"
   ]
  },
  {
   "cell_type": "code",
   "execution_count": 42,
   "metadata": {},
   "outputs": [],
   "source": [
    "no_cells = sparse_data.shape[0] * sparse_data.shape[1]\n",
    "non_zero = sparse_data.count_nonzero()"
   ]
  },
  {
   "cell_type": "code",
   "execution_count": 60,
   "metadata": {},
   "outputs": [],
   "source": [
    "percentage = non_zero/no_cells\n",
    "percentage_str = \"{0:,.7f}\".format(percentage)"
   ]
  },
  {
   "cell_type": "code",
   "execution_count": 61,
   "metadata": {},
   "outputs": [
    {
     "name": "stdout",
     "output_type": "stream",
     "text": [
      "Percentage of non-zero elements: 0.0000902 %\n"
     ]
    }
   ],
   "source": [
    "print(f\"Percentage of non-zero elements: {percentage_str} %\")"
   ]
  },
  {
   "cell_type": "code",
   "execution_count": 62,
   "metadata": {},
   "outputs": [
    {
     "data": {
      "text/plain": [
       "(2649430, 13393)"
      ]
     },
     "execution_count": 62,
     "metadata": {},
     "output_type": "execute_result"
    }
   ],
   "source": [
    "sparse_data.shape"
   ]
  },
  {
   "cell_type": "code",
   "execution_count": 78,
   "metadata": {},
   "outputs": [],
   "source": [
    "avg_ratings_per_movie = sparse_data.sum(axis=1)"
   ]
  },
  {
   "cell_type": "code",
   "execution_count": 79,
   "metadata": {},
   "outputs": [
    {
     "data": {
      "text/plain": [
       "(2649430, 1)"
      ]
     },
     "execution_count": 79,
     "metadata": {},
     "output_type": "execute_result"
    }
   ],
   "source": [
    "avg_ratings_per_movie.shape"
   ]
  },
  {
   "cell_type": "code",
   "execution_count": 80,
   "metadata": {},
   "outputs": [],
   "source": [
    "avg_ratings_per_user = sparse_data.sum(axis=0)/(sparse_data.shape[1] - sparse_data.)"
   ]
  },
  {
   "cell_type": "code",
   "execution_count": 81,
   "metadata": {},
   "outputs": [
    {
     "data": {
      "text/plain": [
       "(1, 13393)"
      ]
     },
     "execution_count": 81,
     "metadata": {},
     "output_type": "execute_result"
    }
   ],
   "source": [
    "avg_ratings_per_user.shape"
   ]
  },
  {
   "cell_type": "code",
   "execution_count": 82,
   "metadata": {},
   "outputs": [
    {
     "data": {
      "text/plain": [
       "matrix([[0.        , 0.00077413, 0.00019476, ..., 0.00048992, 0.1095847 ,\n",
       "         0.02130043]])"
      ]
     },
     "execution_count": 82,
     "metadata": {},
     "output_type": "execute_result"
    }
   ],
   "source": [
    "avg_ratings_per_user"
   ]
  },
  {
   "cell_type": "code",
   "execution_count": 83,
   "metadata": {},
   "outputs": [
    {
     "data": {
      "text/plain": [
       "(1, 13393)"
      ]
     },
     "execution_count": 83,
     "metadata": {},
     "output_type": "execute_result"
    }
   ],
   "source": [
    "avg_ratings_per_user.shape"
   ]
  },
  {
   "cell_type": "code",
   "execution_count": null,
   "metadata": {},
   "outputs": [],
   "source": []
  },
  {
   "cell_type": "code",
   "execution_count": null,
   "metadata": {},
   "outputs": [],
   "source": []
  },
  {
   "cell_type": "code",
   "execution_count": null,
   "metadata": {},
   "outputs": [],
   "source": []
  },
  {
   "cell_type": "code",
   "execution_count": null,
   "metadata": {},
   "outputs": [],
   "source": []
  },
  {
   "cell_type": "code",
   "execution_count": null,
   "metadata": {},
   "outputs": [],
   "source": []
  },
  {
   "cell_type": "code",
   "execution_count": null,
   "metadata": {},
   "outputs": [],
   "source": []
  },
  {
   "cell_type": "code",
   "execution_count": null,
   "metadata": {},
   "outputs": [],
   "source": []
  },
  {
   "cell_type": "code",
   "execution_count": null,
   "metadata": {},
   "outputs": [],
   "source": []
  },
  {
   "cell_type": "code",
   "execution_count": null,
   "metadata": {},
   "outputs": [],
   "source": []
  }
 ],
 "metadata": {
  "kernelspec": {
   "display_name": "Python 3",
   "language": "python",
   "name": "python3"
  },
  "language_info": {
   "codemirror_mode": {
    "name": "ipython",
    "version": 3
   },
   "file_extension": ".py",
   "mimetype": "text/x-python",
   "name": "python",
   "nbconvert_exporter": "python",
   "pygments_lexer": "ipython3",
   "version": "3.6.10"
  }
 },
 "nbformat": 4,
 "nbformat_minor": 4
}
