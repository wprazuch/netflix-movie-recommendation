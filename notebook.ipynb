{
 "cells": [
  {
   "cell_type": "code",
   "execution_count": 1,
   "metadata": {},
   "outputs": [],
   "source": [
    "import pandas as pd\n",
    "import numpy as np\n",
    "import os\n",
    "from tqdm import tqdm\n",
    "\n",
    "opj = os.path.join"
   ]
  },
  {
   "cell_type": "code",
   "execution_count": 2,
   "metadata": {},
   "outputs": [],
   "source": [
    "data_path = r'datasets'"
   ]
  },
  {
   "cell_type": "code",
   "execution_count": 4,
   "metadata": {},
   "outputs": [
    {
     "name": "stdout",
     "output_type": "stream",
     "text": [
      "['combined_data_1.txt', 'combined_data_2.txt', 'combined_data_3.txt', 'combined_data_4.txt']\n"
     ]
    }
   ],
   "source": [
    "data_files = [file for file in os.listdir(data_path) if file.startswith('combined_data_')]\n",
    "print(data_files)"
   ]
  },
  {
   "cell_type": "code",
   "execution_count": 5,
   "metadata": {},
   "outputs": [],
   "source": [
    "def create_df_from_file(f):\n",
    "    data = []\n",
    "    for line in tqdm(f):\n",
    "        line = line.rstrip()\n",
    "        if ',' not in line:\n",
    "            movie_id = int(line[:-1])\n",
    "        else:\n",
    "            customer_id, rating, date = line.split(',')\n",
    "            customer_id = int(customer_id)\n",
    "            rating = float(rating)\n",
    "            record = [movie_id, customer_id, rating, date]\n",
    "            data.append(record)\n",
    "    df = pd.DataFrame(data, columns=['MovieID', 'CustomerID', 'Rating', 'Date'])\n",
    "    return df"
   ]
  },
  {
   "cell_type": "code",
   "execution_count": 6,
   "metadata": {},
   "outputs": [
    {
     "name": "stderr",
     "output_type": "stream",
     "text": [
      "24058263it [00:34, 697656.88it/s]\n",
      "26982302it [00:45, 590403.32it/s] \n",
      "22605786it [00:36, 626491.72it/s]\n",
      "26851926it [00:45, 588628.82it/s]\n"
     ]
    }
   ],
   "source": [
    "for i in range(len(data_files)):\n",
    "    f = open(opj(data_path, data_files[i]),\"r\") \n",
    "    df = create_df_from_file(f)\n",
    "    df.to_hdf(f'datasets\\data{i+1}.h5', key='df')\n",
    "    df_sample = df.iloc[:1000000, :]\n",
    "    df_sample.to_hdf(f'datasets\\data_sample{i+1}.h5', key='df')"
   ]
  },
  {
   "cell_type": "code",
   "execution_count": null,
   "metadata": {},
   "outputs": [],
   "source": []
  },
  {
   "cell_type": "code",
   "execution_count": null,
   "metadata": {},
   "outputs": [],
   "source": []
  },
  {
   "cell_type": "code",
   "execution_count": null,
   "metadata": {},
   "outputs": [],
   "source": []
  },
  {
   "cell_type": "code",
   "execution_count": null,
   "metadata": {},
   "outputs": [],
   "source": []
  },
  {
   "cell_type": "code",
   "execution_count": null,
   "metadata": {},
   "outputs": [],
   "source": []
  },
  {
   "cell_type": "code",
   "execution_count": null,
   "metadata": {},
   "outputs": [],
   "source": []
  }
 ],
 "metadata": {
  "kernelspec": {
   "display_name": "Python 3",
   "language": "python",
   "name": "python3"
  },
  "language_info": {
   "codemirror_mode": {
    "name": "ipython",
    "version": 3
   },
   "file_extension": ".py",
   "mimetype": "text/x-python",
   "name": "python",
   "nbconvert_exporter": "python",
   "pygments_lexer": "ipython3",
   "version": "3.6.10"
  }
 },
 "nbformat": 4,
 "nbformat_minor": 4
}
